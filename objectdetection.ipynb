{
 "cells": [
  {
   "cell_type": "code",
   "execution_count": 1,
   "metadata": {
    "colab": {},
    "colab_type": "code",
    "id": "1o78kAK0QFlE"
   },
   "outputs": [
    {
     "name": "stdout",
     "output_type": "stream",
     "text": [
      "False\n",
      "None\n"
     ]
    },
    {
     "ename": "error",
     "evalue": "OpenCV(4.2.0) C:\\projects\\opencv-python\\opencv\\modules\\imgproc\\src\\color.cpp:182: error: (-215:Assertion failed) !_src.empty() in function 'cv::cvtColor'\n",
     "output_type": "error",
     "traceback": [
      "\u001b[1;31m---------------------------------------------------------------------------\u001b[0m",
      "\u001b[1;31merror\u001b[0m                                     Traceback (most recent call last)",
      "\u001b[1;32m<ipython-input-1-4d84a541b58f>\u001b[0m in \u001b[0;36m<module>\u001b[1;34m\u001b[0m\n\u001b[0;32m     15\u001b[0m     \u001b[0mprint\u001b[0m\u001b[1;33m(\u001b[0m\u001b[0mframe\u001b[0m\u001b[1;33m)\u001b[0m\u001b[1;33m\u001b[0m\u001b[1;33m\u001b[0m\u001b[0m\n\u001b[0;32m     16\u001b[0m      \u001b[1;31m#in open cv picture is read by BGR\u001b[0m\u001b[1;33m\u001b[0m\u001b[1;33m\u001b[0m\u001b[1;33m\u001b[0m\u001b[0m\n\u001b[1;32m---> 17\u001b[1;33m     \u001b[0mgray\u001b[0m \u001b[1;33m=\u001b[0m \u001b[0mcv2\u001b[0m\u001b[1;33m.\u001b[0m\u001b[0mcvtColor\u001b[0m\u001b[1;33m(\u001b[0m\u001b[0mframe\u001b[0m\u001b[1;33m,\u001b[0m \u001b[0mcv2\u001b[0m\u001b[1;33m.\u001b[0m\u001b[0mCOLOR_BGR2GRAY\u001b[0m\u001b[1;33m)\u001b[0m   \u001b[1;31m#convert color to gray but no data loss average intensity\u001b[0m\u001b[1;33m\u001b[0m\u001b[1;33m\u001b[0m\u001b[0m\n\u001b[0m\u001b[0;32m     18\u001b[0m     \u001b[0mgray\u001b[0m\u001b[1;33m=\u001b[0m\u001b[0mcv2\u001b[0m\u001b[1;33m.\u001b[0m\u001b[0mGaussianBlur\u001b[0m\u001b[1;33m(\u001b[0m\u001b[0mgray\u001b[0m\u001b[1;33m,\u001b[0m\u001b[1;33m(\u001b[0m\u001b[1;36m21\u001b[0m\u001b[1;33m,\u001b[0m\u001b[1;36m21\u001b[0m\u001b[1;33m)\u001b[0m\u001b[1;33m,\u001b[0m\u001b[1;36m0\u001b[0m\u001b[1;33m)\u001b[0m            \u001b[1;31m#gaussian blur to smooth images (21,21) is the window size\u001b[0m\u001b[1;33m\u001b[0m\u001b[1;33m\u001b[0m\u001b[0m\n\u001b[0;32m     19\u001b[0m \u001b[1;33m\u001b[0m\u001b[0m\n",
      "\u001b[1;31merror\u001b[0m: OpenCV(4.2.0) C:\\projects\\opencv-python\\opencv\\modules\\imgproc\\src\\color.cpp:182: error: (-215:Assertion failed) !_src.empty() in function 'cv::cvtColor'\n"
     ]
    }
   ],
   "source": [
    "import cv2, time\n",
    "from datetime import datetime\n",
    "\n",
    "#capture the video 0 from web-cam and path for pre video\n",
    "video = cv2.VideoCapture(0)\n",
    "\n",
    "\n",
    "first_frame = None\n",
    "status_list=[None,None]\n",
    "times=[]\n",
    "while True:          #while check is true\n",
    "    check,frame = video.read()       #reading the video\n",
    "    status=0\n",
    "    print(check)                     #true or false for camera acess\n",
    "    print(frame)\n",
    "     #in open cv picture is read by BGR\n",
    "    gray = cv2.cvtColor(frame, cv2.COLOR_BGR2GRAY)   #convert color to gray but no data loss average intensity\n",
    "    gray=cv2.GaussianBlur(gray,(21,21),0)            #gaussian blur to smooth images (21,21) is the window size\n",
    "\n",
    "    if first_frame is None:\n",
    "        first_frame=gray                          #it is assigned for only 1st frame \n",
    "        continue\n",
    "\n",
    "    delta_frame=cv2.absdiff(first_frame,gray)    #absolute difference of frames  |x-y|\n",
    "    thresh_frame=cv2.threshold(delta_frame, 30, 255, cv2.THRESH_BINARY)[1]   #p<t black,else white\n",
    "    thresh_frame=cv2.dilate(thresh_frame, None, iterations=2)     #dilation makes the white part prominent\n",
    "                                                                  #erosion makes the black region prominent\n",
    "    \n",
    "    #findContours helps to return the boundary of the image. return list of list.\n",
    "    #return the effective values to detect the object.(chain_external)\n",
    "    (cnts,_)=cv2.findContours(thresh_frame.copy(),cv2.RETR_EXTERNAL, cv2.CHAIN_APPROX_SIMPLE)\n",
    "\n",
    "    for contour in cnts:\n",
    "        if cv2.contourArea(contour) < 10000:      #find the area enclosing the object\n",
    "            continue\n",
    "\n",
    "        status = 1               #it is always 1 when object is detected.\n",
    "        (x, y, w, h)=cv2.boundingRect(contour)  #makes a rectangle enclosing all the point\n",
    "        cv2.rectangle(frame, (x, y), (x+w, y+h), (0,255,0), 3)    #draws a rectangle of green color, 3 is for thickness\n",
    "\n",
    "    status_list.append(status)         #appends the status int ot list 1 for detected 0 for not detected\n",
    "\n",
    "    if status_list[-1]==1 and status_list[-2]==0:    #cheking if object is coming(entry)\n",
    "        times.append(datetime.now())\n",
    "    if status_list[-1]==0 and status_list[-2]==1:    #checking if object is going and was present(exit)\n",
    "        times.append(datetime.now())\n",
    "\n",
    "    cv2.imshow(\"Gray \", gray)                    #show function for the display\n",
    "    cv2.imshow(\"Delta \", delta_frame)\n",
    "    cv2.imshow(\"Threshold \", thresh_frame)\n",
    "    cv2.imshow(\"Color Frame\",frame)\n",
    "\n",
    "    key = cv2.waitKey(1)\n",
    "\n",
    "    if key == ord('q'):           #terminating condtion\n",
    "        if status==1:\n",
    "            times.append(datetime.now())\n",
    "        break\n",
    "        \n",
    "print (status_list)      \n",
    "print(times)\n",
    "\n",
    "video.release()\n",
    "cv2.destroyAllWindows()      #destroy all the caches\n"
   ]
  },
  {
   "cell_type": "code",
   "execution_count": null,
   "metadata": {},
   "outputs": [],
   "source": []
  }
 ],
 "metadata": {
  "colab": {
   "name": "opencv_revision_objectdetection.ipynb",
   "provenance": []
  },
  "kernelspec": {
   "display_name": "Python 3",
   "language": "python",
   "name": "python3"
  },
  "language_info": {
   "codemirror_mode": {
    "name": "ipython",
    "version": 3
   },
   "file_extension": ".py",
   "mimetype": "text/x-python",
   "name": "python",
   "nbconvert_exporter": "python",
   "pygments_lexer": "ipython3",
   "version": "3.7.4"
  }
 },
 "nbformat": 4,
 "nbformat_minor": 1
}
